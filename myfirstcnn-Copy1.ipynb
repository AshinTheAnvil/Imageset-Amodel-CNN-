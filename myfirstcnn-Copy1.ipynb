{
 "cells": [
  {
   "cell_type": "code",
   "execution_count": 1,
   "metadata": {},
   "outputs": [
    {
     "name": "stderr",
     "output_type": "stream",
     "text": [
      "Using TensorFlow backend.\n"
     ]
    }
   ],
   "source": [
    "###Importing libs\n",
    "\n",
    "import os\n",
    "import tensorflow as tf\n",
    "from keras.preprocessing.image import ImageDataGenerator"
   ]
  },
  {
   "cell_type": "code",
   "execution_count": 2,
   "metadata": {},
   "outputs": [
    {
     "data": {
      "text/plain": [
       "'2.2.0'"
      ]
     },
     "execution_count": 2,
     "metadata": {},
     "output_type": "execute_result"
    }
   ],
   "source": [
    "tf.__version__\n"
   ]
  },
  {
   "cell_type": "code",
   "execution_count": 3,
   "metadata": {},
   "outputs": [
    {
     "name": "stdout",
     "output_type": "stream",
     "text": [
      "/Users/ashin/Downloads/animalsvm\n"
     ]
    }
   ],
   "source": [
    "cd /Users/ashin/Downloads/animalsvm"
   ]
  },
  {
   "cell_type": "code",
   "execution_count": 4,
   "metadata": {},
   "outputs": [
    {
     "data": {
      "text/plain": [
       "'/Users/ashin/Downloads/animalsvm'"
      ]
     },
     "execution_count": 4,
     "metadata": {},
     "output_type": "execute_result"
    }
   ],
   "source": [
    "pwd"
   ]
  },
  {
   "cell_type": "code",
   "execution_count": 5,
   "metadata": {},
   "outputs": [
    {
     "name": "stdout",
     "output_type": "stream",
     "text": [
      "Found 222 images belonging to 5 classes.\n"
     ]
    }
   ],
   "source": [
    "###Data preprocessing\n",
    "\n",
    "train_datagen = ImageDataGenerator(rescale = 1./255,\n",
    "                                   shear_range = 0.2,\n",
    "                                   zoom_range = 0.2,\n",
    "                                   horizontal_flip = True)\n",
    "training_set = train_datagen.flow_from_directory('images/train_set/',\n",
    "                                                 target_size = (64, 64),\n",
    "                                                 batch_size = 8,\n",
    "                                                 class_mode = 'categorical')"
   ]
  },
  {
   "cell_type": "code",
   "execution_count": 6,
   "metadata": {},
   "outputs": [
    {
     "name": "stdout",
     "output_type": "stream",
     "text": [
      "Found 92 images belonging to 5 classes.\n"
     ]
    }
   ],
   "source": [
    "test_datagen = ImageDataGenerator(rescale = 1./255)\n",
    "test_set = test_datagen.flow_from_directory('images/test_set/',\n",
    "                                            target_size = (64, 64),\n",
    "                                            batch_size = 3,\n",
    "                                            class_mode = 'categorical')"
   ]
  },
  {
   "cell_type": "code",
   "execution_count": 7,
   "metadata": {},
   "outputs": [],
   "source": [
    "###CNN Model\n",
    "\n",
    "cnn = tf.keras.models.Sequential()\n",
    "cnn.add(tf.keras.layers.Conv2D(filters=32, kernel_size=3, activation='relu', input_shape=[64, 64, 3]))\n",
    "cnn.add(tf.keras.layers.MaxPool2D(pool_size=2, strides=2))\n",
    "cnn.add(tf.keras.layers.Conv2D(filters=32, kernel_size=3, activation='relu'))\n",
    "cnn.add(tf.keras.layers.MaxPool2D(pool_size=2, strides=2))\n",
    "cnn.add(tf.keras.layers.Flatten())\n",
    "cnn.add(tf.keras.layers.Dense(units=128, activation='relu'))\n",
    "cnn.add(tf.keras.layers.Dense(units=5, activation='softmax'))\n",
    "cnn.compile(optimizer = 'adam', loss = 'binary_crossentropy', metrics = ['accuracy'])"
   ]
  },
  {
   "cell_type": "code",
   "execution_count": 8,
   "metadata": {},
   "outputs": [
    {
     "name": "stdout",
     "output_type": "stream",
     "text": [
      "Epoch 1/15\n",
      "28/28 [==============================] - 1s 46ms/step - loss: 0.4757 - accuracy: 0.3108 - val_loss: 0.4031 - val_accuracy: 0.4022\n",
      "Epoch 2/15\n",
      "28/28 [==============================] - 1s 31ms/step - loss: 0.3367 - accuracy: 0.5450 - val_loss: 0.3108 - val_accuracy: 0.6522\n",
      "Epoch 3/15\n",
      "28/28 [==============================] - 1s 31ms/step - loss: 0.2429 - accuracy: 0.6937 - val_loss: 0.2397 - val_accuracy: 0.7391\n",
      "Epoch 4/15\n",
      "28/28 [==============================] - 1s 30ms/step - loss: 0.1766 - accuracy: 0.8153 - val_loss: 0.2292 - val_accuracy: 0.7391\n",
      "Epoch 5/15\n",
      "28/28 [==============================] - 1s 31ms/step - loss: 0.1692 - accuracy: 0.8423 - val_loss: 0.2772 - val_accuracy: 0.7174\n",
      "Epoch 6/15\n",
      "28/28 [==============================] - 1s 30ms/step - loss: 0.1765 - accuracy: 0.8378 - val_loss: 0.2628 - val_accuracy: 0.7500\n",
      "Epoch 7/15\n",
      "28/28 [==============================] - 1s 31ms/step - loss: 0.1589 - accuracy: 0.8198 - val_loss: 0.2321 - val_accuracy: 0.7174\n",
      "Epoch 8/15\n",
      "28/28 [==============================] - 1s 30ms/step - loss: 0.0913 - accuracy: 0.9189 - val_loss: 0.2028 - val_accuracy: 0.7935\n",
      "Epoch 9/15\n",
      "28/28 [==============================] - 1s 31ms/step - loss: 0.0730 - accuracy: 0.9189 - val_loss: 0.2806 - val_accuracy: 0.7717\n",
      "Epoch 10/15\n",
      "28/28 [==============================] - 1s 31ms/step - loss: 0.1161 - accuracy: 0.8784 - val_loss: 0.1959 - val_accuracy: 0.7935\n",
      "Epoch 11/15\n",
      "28/28 [==============================] - 1s 31ms/step - loss: 0.0605 - accuracy: 0.9595 - val_loss: 0.2086 - val_accuracy: 0.8370\n",
      "Epoch 12/15\n",
      "28/28 [==============================] - 1s 30ms/step - loss: 0.0372 - accuracy: 0.9640 - val_loss: 0.1734 - val_accuracy: 0.8696\n",
      "Epoch 13/15\n",
      "28/28 [==============================] - 1s 37ms/step - loss: 0.0360 - accuracy: 0.9730 - val_loss: 0.2104 - val_accuracy: 0.8043\n",
      "Epoch 14/15\n",
      "28/28 [==============================] - 1s 32ms/step - loss: 0.0672 - accuracy: 0.9279 - val_loss: 0.2568 - val_accuracy: 0.8152\n",
      "Epoch 15/15\n",
      "28/28 [==============================] - 1s 30ms/step - loss: 0.0485 - accuracy: 0.9550 - val_loss: 0.1945 - val_accuracy: 0.8043\n"
     ]
    },
    {
     "data": {
      "text/plain": [
       "<tensorflow.python.keras.callbacks.History at 0x7fb804d2fb10>"
      ]
     },
     "execution_count": 8,
     "metadata": {},
     "output_type": "execute_result"
    }
   ],
   "source": [
    "###Training the model\n",
    "\n",
    "cnn.fit(x = training_set,validation_data=test_set,epochs = 15)"
   ]
  },
  {
   "cell_type": "code",
   "execution_count": 9,
   "metadata": {},
   "outputs": [
    {
     "name": "stdout",
     "output_type": "stream",
     "text": [
      "[[0. 1. 0. 0. 0.]]\n"
     ]
    },
    {
     "data": {
      "text/plain": [
       "{'dalmatian': 0,\n",
       " 'dollar_bill': 1,\n",
       " 'pizza': 2,\n",
       " 'soccer_ball': 3,\n",
       " 'sunflower': 4}"
      ]
     },
     "execution_count": 9,
     "metadata": {},
     "output_type": "execute_result"
    }
   ],
   "source": [
    "###testing with a data provide by user\n",
    "\n",
    "training_set.class_indices\n",
    "import numpy as np\n",
    "from keras.preprocessing import image\n",
    "test_image = image.load_img('mine/image_0038.jpg', target_size = (64, 64))\n",
    "test_image = image.img_to_array(test_image)\n",
    "test_image = np.expand_dims(test_image, axis = 0)\n",
    "result = cnn.predict(test_image)\n",
    "print(result)\n",
    "training_set.class_indices\n",
    "\n",
    "  "
   ]
  },
  {
   "cell_type": "code",
   "execution_count": 10,
   "metadata": {},
   "outputs": [],
   "source": [
    "if result[0][0] == 1:\n",
    "    pred='dalmation dog'\n",
    "elif result[0][1] == 1:\n",
    "    pred='dollar'\n",
    "elif result[0][2] == 1:\n",
    "    pred='pizza'\n",
    "elif result[0][3] == 1:\n",
    "    pred='football'\n",
    "else:\n",
    "    pred='sunflower'"
   ]
  },
  {
   "cell_type": "code",
   "execution_count": 11,
   "metadata": {},
   "outputs": [
    {
     "name": "stdout",
     "output_type": "stream",
     "text": [
      "dollar    ###ashin_swag\n"
     ]
    }
   ],
   "source": [
    "### printing the o/p\n",
    "print(pred +'    ###ashin_swag')"
   ]
  },
  {
   "cell_type": "code",
   "execution_count": 326,
   "metadata": {},
   "outputs": [],
   "source": [
    "###ashin_swag @ dreamcatcher####"
   ]
  },
  {
   "cell_type": "code",
   "execution_count": null,
   "metadata": {},
   "outputs": [],
   "source": []
  }
 ],
 "metadata": {
  "kernelspec": {
   "display_name": "Python 3",
   "language": "python",
   "name": "python3"
  },
  "language_info": {
   "codemirror_mode": {
    "name": "ipython",
    "version": 3
   },
   "file_extension": ".py",
   "mimetype": "text/x-python",
   "name": "python",
   "nbconvert_exporter": "python",
   "pygments_lexer": "ipython3",
   "version": "3.7.7"
  }
 },
 "nbformat": 4,
 "nbformat_minor": 4
}
